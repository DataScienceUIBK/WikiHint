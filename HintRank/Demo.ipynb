{
 "nbformat": 4,
 "nbformat_minor": 0,
 "metadata": {
  "colab": {
   "provenance": []
  },
  "kernelspec": {
   "name": "python3",
   "display_name": "Python 3"
  },
  "language_info": {
   "name": "python"
  }
 },
 "cells": [
  {
   "metadata": {},
   "cell_type": "markdown",
   "source": [
    "### Install Dependencies and Download Required File\n",
    "This cell installs necessary Python packages (`transformers`, `numpy`, `scipy`)\n",
    "and downloads the `hint_rank.py` script from the GitHub repository."
   ]
  },
  {
   "cell_type": "code",
   "execution_count": null,
   "metadata": {
    "id": "LYtEJYwaaiUU"
   },
   "outputs": [],
   "source": [
    "!pip install transformers numpy scipy\n",
    "!wget https://raw.githubusercontent.com/DataScienceUIBK/WikiHint/main/HintRank/hint_rank.py"
   ]
  },
  {
   "metadata": {},
   "cell_type": "markdown",
   "source": [
    "### Import and Initialize HintRank\n",
    "This cell imports the `HintRank` class from the downloaded script and initializes the ranker model."
   ]
  },
  {
   "cell_type": "code",
   "source": [
    "from hint_rank import HintRank\n",
    "\n",
    "# Initialize the HintRank model\n",
    "ranker = HintRank()"
   ],
   "metadata": {
    "id": "HUyqwy5dajn5"
   },
   "execution_count": null,
   "outputs": []
  },
  {
   "metadata": {},
   "cell_type": "markdown",
   "source": [
    "### Pairwise Hint Comparison\n",
    "This cell defines a question, an answer, and a set of hints.\n",
    "It then compares two hints to determine which one is better based on:\n",
    "- Answer-aware comparison (considers the answer when ranking hints).\n",
    "- Answer-agnostic comparison (ranks hints without considering the answer)."
   ]
  },
  {
   "cell_type": "code",
   "source": [
    "question = \"What is the capital of Austria?\"\n",
    "answer = \"Vienna\"\n",
    "hints = [\n",
    "    \"Mozart and Beethoven once lived here.\",\n",
    "    \"It is a big city in Europe.\",\n",
    "    \"Austria’s largest city and capital.\"\n",
    "]\n",
    "\n",
    "# Pairwise Comparison Example\n",
    "better_hint_answer_aware = ranker.pairwise_compare(question, hints[1], hints[2], answer)\n",
    "better_hint_answer_agnostic = ranker.pairwise_compare(question, hints[0], hints[1])\n",
    "\n",
    "print(f\"Answer-Aware: Hint {2 if better_hint_answer_aware == 1 else 3} is better than Hint {3 if better_hint_answer_aware == 0 else 2}.\")\n",
    "print(f\"Answer-Agnostic: Hint {1 if better_hint_answer_agnostic == 1 else 2} is better than Hint {2 if better_hint_answer_agnostic == 0 else 1}.\")"
   ],
   "metadata": {
    "id": "n_A7wHXaakzh"
   },
   "execution_count": null,
   "outputs": []
  },
  {
   "metadata": {},
   "cell_type": "markdown",
   "source": [
    "### Listwise Hint Ranking\n",
    "This cell ranks the hints in order of effectiveness using two methods:\n",
    "- **Answer-aware ranking:** Takes the answer into account when ranking hints.\n",
    "- **Answer-agnostic ranking:** Ranks hints based only on the question."
   ]
  },
  {
   "cell_type": "code",
   "source": [
    "print(\"\\nAnswer-Aware Ranked Hints:\")\n",
    "ranked_hints_answer_aware = ranker.listwise_compare(question, hints, answer)\n",
    "for i, (hint, _) in enumerate(ranked_hints_answer_aware):\n",
    "    print(f\"Rank {i + 1}: {hint}\")\n",
    "\n",
    "print(\"\\nAnswer-Agnostic Ranked Hints:\")\n",
    "ranked_hints_answer_agnostic = ranker.listwise_compare(question, hints)\n",
    "for i, (hint, _) in enumerate(ranked_hints_answer_agnostic):\n",
    "    print(f\"Rank {i + 1}: {hint}\")"
   ],
   "metadata": {
    "id": "PfNE-15Ualmy"
   },
   "execution_count": null,
   "outputs": []
  }
 ]
}
